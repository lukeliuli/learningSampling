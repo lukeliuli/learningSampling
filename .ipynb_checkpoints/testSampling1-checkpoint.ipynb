{
 "cells": [
  {
   "cell_type": "code",
   "execution_count": 35,
   "id": "746165f4",
   "metadata": {},
   "outputs": [
    {
     "name": "stdout",
     "output_type": "stream",
     "text": [
      "基于均匀采样,范围为[0,1],采样数为50000,边长为0.1的正方形面积为:0.00952\n",
      "基于重要性采样，采样数为5000,边长为0.1的正方形面积为:0.01002 \n",
      "基于重要性采样,重要性采样的概率密度函数还是为均匀采样,只不过范围为[0,0.2]\n",
      "基于重要性采样，采样数为5000,边长为0.1的正方形面积为:0.00998 \n",
      "基于重要性采样,重要性采样的概率密度函数还是为高斯采样,均值为0.05000,方差为0.03000\n"
     ]
    },
    {
     "data": {
      "text/plain": [
       "<matplotlib.axes._subplots.AxesSubplot at 0x7f986e04dc30>"
      ]
     },
     "execution_count": 35,
     "metadata": {},
     "output_type": "execute_result"
    },
    {
     "data": {
      "image/png": "[encoded data removed]",
      "text/plain": [
       "<Figure size 640x480 with 1 Axes>"
      ]
     },
     "metadata": {},
     "output_type": "display_data"
    }
   ],
   "source": [
    "import random\n",
    "\n",
    "#############################################################################################\n",
    "#test1简单的均匀采样\n",
    "def customFun1(x,y):\n",
    "    \n",
    "  if x>=0 and x<=0.1 and y>=0 and y<=0.1:\n",
    "      rvl =1;\n",
    "  else:\n",
    "      rvl =0;\n",
    "  return rvl\n",
    "\n",
    "\n",
    "#test1简单的均匀采样\n",
    "def test1():\n",
    "    area =0\n",
    "    n = 50000\n",
    "    for i in range(n):\n",
    "        x = random.random();\n",
    "        y = random.random();\n",
    "        rvl = customFun1(x,y);\n",
    "        area = area+rvl;\n",
    "        \n",
    "    area = area/n\n",
    "    str1 = \"基于均匀采样,范围为[0,1],采样数为%d,边长为0.1的正方形面积为:%.5f\" %(n,area)\n",
    "    print(str1)\n",
    "    return area\n",
    "\n",
    "################################################################################\n",
    "#test2简单的重要性采样\n",
    "##概率密度函数还是为均匀采样,只不过范围为[0,0.2]\n",
    "#https://zhuanlan.zhihu.com/p/41217212\n",
    "def weight2(x,y):\n",
    "    \n",
    "    b= 1\n",
    "    a= 0\n",
    "    pi_x = 1/(b-a)\n",
    "    pi_y = 1/(b-a)\n",
    "\n",
    "    \n",
    "    b= 0.2\n",
    "    a= 0\n",
    "    p_x = 1/(b-a);\n",
    "    p_y = 1/(b-a);\n",
    "\n",
    "    weightX = pi_x/p_x;\n",
    "    weightY = pi_y/p_y;\n",
    "    return weightX,weightY \n",
    "  \n",
    " \n",
    "def test2():\n",
    "    area =0\n",
    "    n = 5000\n",
    "    for i in range(n):\n",
    "        x = random.random()/5;\n",
    "        y = random.random()/5;\n",
    "        weightX,weightY = weight2(x,y)\n",
    "        rvl = customFun1(x,y);\n",
    "        area = area+weightX*weightY*rvl;\n",
    "        \n",
    "    area = area/n\n",
    "    str1 = \"基于重要性采样，采样数为%d,边长为0.1的正方形面积为:%.5f \\n\" %(n,area)\n",
    "    str2 = \"基于重要性采样,重要性采样的概率密度函数还是为均匀采样,只不过范围为[0,0.2]\"\n",
    "    \n",
    "    print(str1+str2)\n",
    "    return area\n",
    "\n",
    "############################################################################\n",
    "#test3简单的重要性采样\n",
    "##概率密度函数还是高斯分布，均值0.5，方差0.03\n",
    "import numpy as np\n",
    "from scipy.stats import norm\n",
    "def weight3(x,y,mean1,std1):\n",
    "    \n",
    "   \n",
    "    p_x = norm.pdf(x,loc = mean1, scale=std1)\n",
    "    p_y = norm.pdf(y,loc = mean1, scale=std1)\n",
    "\n",
    "\n",
    "    \n",
    "    b= 1\n",
    "    a= 0\n",
    "    pi_x = 1/(b-a);\n",
    "    pi_y = 1/(b-a);\n",
    "\n",
    "    weightX = pi_x/p_x;\n",
    "    weightY = pi_y/p_y;\n",
    "    return weightX,weightY \n",
    "  \n",
    " \n",
    "def test3():\n",
    "    area =0\n",
    "    n = 5000\n",
    "    for i in range(n):\n",
    "        mean1 = 0.05\n",
    "        std1 = 0.03\n",
    "        x = norm.rvs(size=1,loc=mean1,scale=std1)\n",
    "        y = norm.rvs(size=1,loc=mean1,scale=std1)\n",
    "        weightX,weightY = weight3(x,y,mean1,std1)\n",
    "        rvl = customFun1(x,y);\n",
    "        area = area+weightX*weightY*rvl;\n",
    "        \n",
    "    area = area/n\n",
    "    str1 = \"基于重要性采样，采样数为%d,边长为0.1的正方形面积为:%.5f \\n\" %(n,area)\n",
    "    str2 = \"基于重要性采样,重要性采样的概率密度函数还是为高斯采样,均值为%.5f,方差为%.5f\" %(mean1,std1)\n",
    "    \n",
    "    print(str1+str2)\n",
    "    return area\n",
    "############################################################################\n",
    "############主程序\n",
    "\n",
    "test1()#test1简单的均匀采样\n",
    "\n",
    "test2()#test2简单的重要性采样 \n",
    "\n",
    "test3()#test2简单的重要性采样,高斯分布\n",
    "\n",
    "import seaborn as sns\n",
    "import numpy as np\n",
    "sns.kdeplot(np.random.normal(loc=0.05,scale=0.03,size=200))\n"
   ]
  },
  {
   "cell_type": "code",
   "execution_count": null,
   "id": "794b3c34",
   "metadata": {},
   "outputs": [],
   "source": []
  },
  {
   "cell_type": "code",
   "execution_count": null,
   "id": "3dbd850e",
   "metadata": {},
   "outputs": [],
   "source": []
  },
  {
   "cell_type": "code",
   "execution_count": null,
   "id": "067a9b0f",
   "metadata": {},
   "outputs": [],
   "source": []
  },
  {
   "cell_type": "code",
   "execution_count": null,
   "id": "cde1f5a3",
   "metadata": {},
   "outputs": [],
   "source": []
  }
 ],
 "metadata": {
  "kernelspec": {
   "display_name": "Python 3 (ipykernel)",
   "language": "python",
   "name": "python3"
  },
  "language_info": {
   "codemirror_mode": {
    "name": "ipython",
    "version": 3
   },
   "file_extension": ".py",
   "mimetype": "text/x-python",
   "name": "python",
   "nbconvert_exporter": "python",
   "pygments_lexer": "ipython3",
   "version": "3.10.6"
  }
 },
 "nbformat": 4,
 "nbformat_minor": 5
}
